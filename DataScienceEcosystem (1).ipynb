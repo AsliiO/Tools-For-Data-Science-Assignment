{
  "metadata": {
    "kernelspec": {
      "name": "python",
      "display_name": "Python (Pyodide)",
      "language": "python"
    },
    "language_info": {
      "codemirror_mode": {
        "name": "python",
        "version": 3
      },
      "file_extension": ".py",
      "mimetype": "text/x-python",
      "name": "python",
      "nbconvert_exporter": "python",
      "pygments_lexer": "ipython3",
      "version": "3.8"
    }
  },
  "nbformat_minor": 5,
  "nbformat": 4,
  "cells": [
    {
      "id": "280f060b-7b64-402f-b4ba-348b3ae4b10d",
      "cell_type": "markdown",
      "source": "# Data Science Tools and Ecosystem",
      "metadata": {}
    },
    {
      "id": "ea01a6e5-42c1-42c8-aef9-9478f4f77076",
      "cell_type": "markdown",
      "source": "## Author",
      "metadata": {}
    },
    {
      "id": "c3de42a4-5def-46a8-aabc-96fb4070ef6e",
      "cell_type": "markdown",
      "source": "Aslı ÖZKAN",
      "metadata": {}
    },
    {
      "id": "e3baf1bc-9971-4970-885f-ed91710ba7bd",
      "cell_type": "markdown",
      "source": "In this notebook, Data Science Tools and Ecosystem are summarized.",
      "metadata": {}
    },
    {
      "id": "7585d865-e1eb-490a-bc68-817cd1c3f95d",
      "cell_type": "markdown",
      "source": "**Objectives:**\n- List Popular Languages for Data Science\n- List Commonly Used Libraries for Data Science\n- Examples of Arithmetic Operations in Pyton",
      "metadata": {}
    },
    {
      "id": "3117e2be-edc6-4b8d-80d2-6ce749f417db",
      "cell_type": "markdown",
      "source": "Some of the popular languages that Data Scientists use are:\n1. R\n2. Python\n3. SQL",
      "metadata": {}
    },
    {
      "id": "eb839d60-995b-4919-9e81-7e86776853cf",
      "cell_type": "markdown",
      "source": "Some of the commonly used libraries used by Data Scientists include:\n1. NumPy\n2. Pandas\n3. Matplotlib",
      "metadata": {}
    },
    {
      "id": "d00bf38b-ca6f-475b-a016-447079ffabff",
      "cell_type": "markdown",
      "source": "| Data Science Tools |\n| ---- |\n| Jupyter IDE |\n| RStudio |\n| Microsoft Visual Studio |\n",
      "metadata": {}
    },
    {
      "id": "10ac4b4b-d629-4530-abcc-2970d57bfd88",
      "cell_type": "markdown",
      "source": "### Below are a fex of evaluating arithmetic expressions in Pyhton",
      "metadata": {}
    },
    {
      "id": "5b6a04fb-c090-4ee6-afa3-11c9c4539cf9",
      "cell_type": "code",
      "source": "#This a simple arithmetic expression to multiply then add integers\n(3*4)+5",
      "metadata": {
        "trusted": true
      },
      "outputs": [
        {
          "execution_count": 2,
          "output_type": "execute_result",
          "data": {
            "text/plain": "17"
          },
          "metadata": {}
        }
      ],
      "execution_count": 2
    },
    {
      "id": "942520ba-9d0a-4080-a595-6fc9aafc6c37",
      "cell_type": "code",
      "source": "# This will convert 200 minutes to hours by dividing by 60\nh = 200 / 60\nprint(h)",
      "metadata": {
        "trusted": true
      },
      "outputs": [
        {
          "name": "stdout",
          "output_type": "stream",
          "text": "3.3333333333333335\n"
        }
      ],
      "execution_count": 5
    },
    {
      "id": "2491a851-50fd-41bf-97ed-4b78ca0c9e40",
      "cell_type": "code",
      "source": "\n",
      "metadata": {
        "trusted": true
      },
      "outputs": [],
      "execution_count": null
    }
  ]
}